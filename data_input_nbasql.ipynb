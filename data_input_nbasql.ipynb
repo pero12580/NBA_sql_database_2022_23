{
 "cells": [
  {
   "cell_type": "code",
   "execution_count": 61,
   "id": "5fe9d8fd-e06d-466c-9fad-50a4281a0b38",
   "metadata": {},
   "outputs": [],
   "source": [
    "import pandas as pd\n",
    "import psycopg2\n",
    "import hashlib"
   ]
  },
  {
   "cell_type": "code",
   "execution_count": 62,
   "id": "658ea1e0-5cc6-41e0-b66c-b461a04134ac",
   "metadata": {},
   "outputs": [],
   "source": [
    "df = pd.read_csv('nba_teams.csv', delimiter=',' )\n",
    "conn = psycopg2.connect(\n",
    "    dbname=\"nba_sql2\",\n",
    "    user=\"postgres\",\n",
    "    password=\"1234\",\n",
    "    host=\"localhost\",\n",
    "    port=\"5432\"\n",
    ")\n",
    "cur = conn.cursor()\n",
    "SEASON_ID = 1"
   ]
  },
  {
   "cell_type": "code",
   "execution_count": 63,
   "id": "8338302f-4791-4c27-9888-33bf81a4794b",
   "metadata": {
    "scrolled": true
   },
   "outputs": [
    {
     "data": {
      "text/plain": [
       "0              Atlanta Hawks\n",
       "1             Boston Celtics\n",
       "2              Brooklyn Nets\n",
       "3          Charlotte Hornets\n",
       "4              Chicago Bulls\n",
       "5        Cleveland Cavaliers\n",
       "6           Dallas Mavericks\n",
       "7             Denver Nuggets\n",
       "8            Detroit Pistons\n",
       "9      Golden State Warriors\n",
       "10           Houston Rockets\n",
       "11            Indiana Pacers\n",
       "12      Los Angeles Clippers\n",
       "13        Los Angeles Lakers\n",
       "14         Memphis Grizzlies\n",
       "15                Miami Heat\n",
       "16           Milwaukee Bucks\n",
       "17    Minnesota Timberwolves\n",
       "18      New Orleans Pelicans\n",
       "19           New York Knicks\n",
       "20     Oklahoma City Thunder\n",
       "21             Orlando Magic\n",
       "22       Philadelphia Sixers\n",
       "23              Phoenix Suns\n",
       "24    Portland Trail Blazers\n",
       "25          Sacramento Kings\n",
       "26         San Antonio Spurs\n",
       "27           Toronto Raptors\n",
       "28                 Utah Jazz\n",
       "29        Washington Wizards\n",
       "Name: Team, dtype: object"
      ]
     },
     "execution_count": 63,
     "metadata": {},
     "output_type": "execute_result"
    }
   ],
   "source": [
    "df['Team']"
   ]
  },
  {
   "cell_type": "code",
   "execution_count": 67,
   "id": "b7c83a5e-e8cc-45ff-bebf-cb22db559aaa",
   "metadata": {},
   "outputs": [
    {
     "name": "stdout",
     "output_type": "stream",
     "text": [
      "✅ Inserted Washington Wizards\n",
      "✅ Inserted Washington Wizards\n",
      "✅ Inserted Washington Wizards\n",
      "✅ Inserted Washington Wizards\n",
      "✅ Inserted Washington Wizards\n",
      "✅ Inserted Washington Wizards\n",
      "✅ Inserted Washington Wizards\n",
      "✅ Inserted Washington Wizards\n",
      "✅ Inserted Washington Wizards\n",
      "✅ Inserted Washington Wizards\n",
      "✅ Inserted Washington Wizards\n",
      "✅ Inserted Washington Wizards\n",
      "✅ Inserted Washington Wizards\n",
      "✅ Inserted Washington Wizards\n",
      "✅ Inserted Washington Wizards\n",
      "✅ Inserted Washington Wizards\n",
      "✅ Inserted Washington Wizards\n",
      "✅ Inserted Washington Wizards\n",
      "✅ Inserted Washington Wizards\n",
      "✅ Inserted Washington Wizards\n",
      "✅ Inserted Washington Wizards\n",
      "✅ Inserted Washington Wizards\n",
      "✅ Inserted Washington Wizards\n",
      "✅ Inserted Washington Wizards\n",
      "✅ Inserted Washington Wizards\n",
      "✅ Inserted Washington Wizards\n",
      "✅ Inserted Washington Wizards\n",
      "✅ Inserted Washington Wizards\n",
      "✅ Inserted Washington Wizards\n",
      "✅ Inserted Washington Wizards\n"
     ]
    }
   ],
   "source": [
    "index = 1\n",
    "for _, row in df.iterrows():\n",
    "\n",
    "    try:\n",
    "        # Insert into Player\n",
    "        cur.execute(\"\"\"\n",
    "            INSERT INTO Team (team_id, name)\n",
    "            VALUES (%s, %s)\n",
    "        \"\"\", (index,row['Team']))\n",
    "\n",
    "        print(f\"✅ Inserted {team_name}\")\n",
    "        index = index+1\n",
    "        \n",
    "    except Exception as e:\n",
    "        print(f\"❌ Error inserting {row['Team']}: {e}\")\n",
    "\n",
    "conn.commit()"
   ]
  },
  {
   "cell_type": "code",
   "execution_count": 71,
   "id": "38056a4e-47ef-49bc-b0d5-cbff24cd9cb4",
   "metadata": {},
   "outputs": [],
   "source": [
    "df = pd.read_csv('Player_Season_stats.csv', delimiter=';' , encoding=\"cp1252\")\n",
    "\n",
    "# --- Keep only first entry for each player (skip TOT/MIN duplicates) ---\n",
    "df = df.drop_duplicates(subset=['Player'], keep='first')"
   ]
  },
  {
   "cell_type": "code",
   "execution_count": 72,
   "id": "4318e910-f026-4ad5-86d7-20687c6ac69f",
   "metadata": {},
   "outputs": [],
   "source": [
    "# --- Database connection ---\n",
    "conn = psycopg2.connect(\n",
    "    dbname=\"nba_sql2\",\n",
    "    user=\"postgres\",\n",
    "    password=\"1234\",\n",
    "    host=\"localhost\",\n",
    "    port=\"5432\"\n",
    ")\n",
    "cur = conn.cursor()\n",
    "\n",
    "# --- Fixed season ID ---\n",
    "SEASON_ID = 1"
   ]
  },
  {
   "cell_type": "code",
   "execution_count": 77,
   "id": "55cdb6ee-b687-4fb8-827c-aa33517a8428",
   "metadata": {},
   "outputs": [],
   "source": [
    "conn.rollback();"
   ]
  },
  {
   "cell_type": "code",
   "execution_count": 78,
   "id": "10fc985a-43a3-47c6-9000-3af21a0079bc",
   "metadata": {
    "scrolled": true
   },
   "outputs": [
    {
     "name": "stdout",
     "output_type": "stream",
     "text": [
      "✅ Inserted Precious Achiuwa\n",
      "✅ Inserted Steven Adams\n",
      "✅ Inserted Bam Adebayo\n",
      "✅ Inserted Ochai Agbaji\n",
      "✅ Inserted Santi Aldama\n",
      "✅ Inserted Nickeil Alexander-Walker\n",
      "✅ Inserted Grayson Allen\n",
      "✅ Inserted Jarrett Allen\n",
      "✅ Inserted Jose Alvarado\n",
      "✅ Inserted Kyle Anderson\n",
      "✅ Inserted Giannis Antetokounmpo\n",
      "✅ Inserted Thanasis Antetokounmpo\n",
      "✅ Inserted Cole Anthony\n",
      "✅ Inserted OG Anunoby\n",
      "..."
     ]
    }
   ],
   "source": [
    "\n",
    "for idx,row in df.iterrows():\n",
    "    player_name = row['firstName'] + ' ' + row['lastName']\n",
    "    \n",
    "    cur.execute(\"SELECT player_id FROM PLAYER WHERE name = %s;\", (player_name,))\n",
    "    player_id = cur.fetchone()\n",
    "    if player_id is None:\n",
    "        continue\n",
    "\n",
    "    game_id = row['gameId']\n",
    "\n",
    "    pts = row['points']\n",
    "    trb = row['reboundsTotal']\n",
    "    ast = row['assists']\n",
    "    fg_pct = row['fieldGoalsPercentage']\n",
    "    fg3_pct = row['threePointersPercentage']\n",
    "    ft_pct = row['freeThrowsPercentage']\n",
    "\n",
    "    \n",
    "    try:\n",
    "        cur.execute(\"\"\"\n",
    "            INSERT INTO Player_Game (player_id, game_id, pts, trb, ast, fg_pct, fg3_pct, ft_pct)\n",
    "            VALUES (%s,%s,%s,%s,%s,%s,%s,%s)\n",
    "        \"\"\", (player_id, game_id, pts, trb, ast, fg_pct, fg3_pct, ft_pct))\n",
    "\n",
    "        print(f\"✅ Inserted {player_id}\")\n",
    "\n",
    "\n",
    "    except Exception as e:\n",
    "        print(f\"❌ Error: {e}\")\n",
    "        conn.rollback()\n"
   ]
  },
  {
   "cell_type": "code",
   "execution_count": 5,
   "id": "1aa31c04-88ab-4a84-aff0-090f08fee49b",
   "metadata": {
    "scrolled": true
   },
   "outputs": [],
   "source": [
    "conn.commit()\n",
    "cur.close()\n",
    "conn.close()\n",
    "#uneseni podaci za svaku tekmu za svakog igraca"
   ]
  },
  {
   "cell_type": "code",
   "execution_count": null,
   "id": "0b3c16c0-e63e-4a2b-9725-1444b7cd528f",
   "metadata": {},
   "outputs": [],
   "source": [
    "#unosenje Team_Season podataka"
   ]
  },
  {
   "cell_type": "code",
   "execution_count": 2,
   "id": "818d8951-89a4-48b8-a3ed-45865ec08cd7",
   "metadata": {},
   "outputs": [],
   "source": [
    "import psycopg2\n",
    "import pandas as pd"
   ]
  },
  {
   "cell_type": "code",
   "execution_count": 3,
   "id": "18ec5002-0960-49b5-8a52-690d599eda24",
   "metadata": {},
   "outputs": [],
   "source": [
    "DB_CONFIG = {\n",
    "    \"dbname\" : \"nba_sql2\",\n",
    "    \"user\" : \"postgres\",\n",
    "    \"password\" : \"1234\",\n",
    "    \"host\" : \"localhost\",\n",
    "    \"port\" : \"5432\"\n",
    "}\n",
    "\n",
    "SEASON_ID = 1\n",
    "\n",
    "conn = psycopg2.connect(**DB_CONFIG)\n",
    "cur = conn.cursor()"
   ]
  },
  {
   "cell_type": "code",
   "execution_count": 4,
   "id": "851ef078-70ec-48e8-b2af-0fb91a398614",
   "metadata": {},
   "outputs": [],
   "source": [
    "df = pd.read_csv('team_season.csv', delimiter=',')"
   ]
  },
  {
   "cell_type": "code",
   "execution_count": 5,
   "id": "690941fa-3b7a-4b7f-b922-648339bf030f",
   "metadata": {},
   "outputs": [
    {
     "name": "stdout",
     "output_type": "stream",
     "text": [
      "✅ Inserted Milwaukee Bucks\n",
      "✅ Inserted Boston Celtics\n",
      "✅ Inserted Philadelphia 76ers\n",
      "✅ Inserted Denver Nuggets\n",
      "✅ Inserted Cleveland Cavaliers\n",
      "✅ Inserted Memphis Grizzlies\n",
      "✅ Inserted Sacramento Kings\n",
      "✅ Inserted New York Knicks\n",
      "✅ Inserted Brooklyn Nets\n",
      "✅ Inserted Phoenix Suns\n",
      "✅ Inserted Golden State Warriors\n",
      "✅ Inserted Los Angeles Clippers\n",
      "✅ Inserted Miami Heat\n",
      "✅ Inserted Los Angeles Lakers\n",
      "✅ Inserted Minnesota Timberwolves\n",
      "✅ Inserted New Orleans Pelicans\n",
      "✅ Inserted Atlanta Hawks\n",
      "✅ Inserted Toronto Raptors\n",
      "✅ Inserted Chicago Bulls\n",
      "✅ Inserted Oklahoma City Thunder\n",
      "✅ Inserted Dallas Mavericks\n",
      "✅ Inserted Utah Jazz\n",
      "✅ Inserted Indiana Pacers\n",
      "✅ Inserted Washington Wizards\n",
      "✅ Inserted Orlando Magic\n",
      "✅ Inserted Portland Trail Blazers\n",
      "✅ Inserted Charlotte Hornets\n",
      "✅ Inserted Houston Rockets\n",
      "✅ Inserted San Antonio Spurs\n",
      "✅ Inserted Detroit Pistons\n"
     ]
    }
   ],
   "source": [
    "for idx,row in df.iterrows():\n",
    "    team_name = row['Team']\n",
    "\n",
    "    cur.execute(\"SELECT team_id FROM TEAM WHERE name = %s;\", (team_name,))\n",
    "    team_id = cur.fetchone()\n",
    "\n",
    "    wins, losses = row['Overall'].split('-')\n",
    "\n",
    "    try:\n",
    "        cur.execute(\"\"\"\n",
    "            INSERT INTO Team_Season (team_id, season_id, wins, losses)\n",
    "            VALUES (%s,%s,%s,%s)\n",
    "        \"\"\", (team_id, SEASON_ID, wins, losses))\n",
    "\n",
    "        print(f\"✅ Inserted {team_name}\")\n",
    "\n",
    "\n",
    "    except Exception as e:\n",
    "        print(f\"❌ Error: {e}\")\n",
    "        conn.rollback()\n",
    "\n",
    "\n",
    "# team_id , season_id , wins, losses"
   ]
  },
  {
   "cell_type": "code",
   "execution_count": 6,
   "id": "778ad2ce-6749-4238-90a3-f0129cb419de",
   "metadata": {},
   "outputs": [],
   "source": [
    "conn.commit()\n",
    "cur.close()\n",
    "conn.close()"
   ]
  },
  {
   "cell_type": "code",
   "execution_count": null,
   "id": "cdde691b-402b-4449-8735-c4a40f3ce08a",
   "metadata": {},
   "outputs": [],
   "source": []
  }
 ],
 "metadata": {
  "kernelspec": {
   "display_name": "Python 3 (ipykernel)",
   "language": "python",
   "name": "python3"
  },
  "language_info": {
   "codemirror_mode": {
    "name": "ipython",
    "version": 3
   },
   "file_extension": ".py",
   "mimetype": "text/x-python",
   "name": "python",
   "nbconvert_exporter": "python",
   "pygments_lexer": "ipython3",
   "version": "3.12.7"
  }
 },
 "nbformat": 4,
 "nbformat_minor": 5
}
